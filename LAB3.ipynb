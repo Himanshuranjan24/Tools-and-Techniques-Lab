{
 "cells": [
  {
   "cell_type": "code",
   "execution_count": 10,
   "id": "2442a7e5",
   "metadata": {},
   "outputs": [
    {
     "name": "stdout",
     "output_type": "stream",
     "text": [
      "Enter 'q' to quit, or anything else to add a student: 1\n",
      "Enter student name: HIMANSHU RANJAN\n",
      "Enter marks for three subjects (separated by spaces): 98 99 100\n"
     ]
    },
    {
     "ename": "KeyboardInterrupt",
     "evalue": "Interrupted by user",
     "output_type": "error",
     "traceback": [
      "\u001b[1;31m---------------------------------------------------------------------------\u001b[0m",
      "\u001b[1;31mKeyboardInterrupt\u001b[0m                         Traceback (most recent call last)",
      "\u001b[1;32m~\\AppData\\Local\\Temp\\ipykernel_20968\\4268618365.py\u001b[0m in \u001b[0;36m<module>\u001b[1;34m\u001b[0m\n\u001b[0;32m     50\u001b[0m \u001b[1;33m\u001b[0m\u001b[0m\n\u001b[0;32m     51\u001b[0m \u001b[1;32mif\u001b[0m \u001b[0m__name__\u001b[0m \u001b[1;33m==\u001b[0m \u001b[1;34m\"__main__\"\u001b[0m\u001b[1;33m:\u001b[0m\u001b[1;33m\u001b[0m\u001b[1;33m\u001b[0m\u001b[0m\n\u001b[1;32m---> 52\u001b[1;33m     \u001b[0mmain\u001b[0m\u001b[1;33m(\u001b[0m\u001b[1;33m)\u001b[0m\u001b[1;33m\u001b[0m\u001b[1;33m\u001b[0m\u001b[0m\n\u001b[0m",
      "\u001b[1;32m~\\AppData\\Local\\Temp\\ipykernel_20968\\4268618365.py\u001b[0m in \u001b[0;36mmain\u001b[1;34m()\u001b[0m\n\u001b[0;32m     33\u001b[0m     \u001b[0mstudents\u001b[0m \u001b[1;33m=\u001b[0m \u001b[1;33m[\u001b[0m\u001b[1;33m]\u001b[0m\u001b[1;33m\u001b[0m\u001b[1;33m\u001b[0m\u001b[0m\n\u001b[0;32m     34\u001b[0m     \u001b[1;32mwhile\u001b[0m \u001b[1;32mTrue\u001b[0m\u001b[1;33m:\u001b[0m\u001b[1;33m\u001b[0m\u001b[1;33m\u001b[0m\u001b[0m\n\u001b[1;32m---> 35\u001b[1;33m         \u001b[0mchoice\u001b[0m \u001b[1;33m=\u001b[0m \u001b[0minput\u001b[0m\u001b[1;33m(\u001b[0m\u001b[1;34m\"Enter 'q' to quit, or anything else to add a student: \"\u001b[0m\u001b[1;33m)\u001b[0m\u001b[1;33m\u001b[0m\u001b[1;33m\u001b[0m\u001b[0m\n\u001b[0m\u001b[0;32m     36\u001b[0m         \u001b[1;32mif\u001b[0m \u001b[0mchoice\u001b[0m\u001b[1;33m.\u001b[0m\u001b[0mlower\u001b[0m\u001b[1;33m(\u001b[0m\u001b[1;33m)\u001b[0m \u001b[1;33m==\u001b[0m \u001b[1;34m'q'\u001b[0m\u001b[1;33m:\u001b[0m\u001b[1;33m\u001b[0m\u001b[1;33m\u001b[0m\u001b[0m\n\u001b[0;32m     37\u001b[0m             \u001b[1;32mbreak\u001b[0m\u001b[1;33m\u001b[0m\u001b[1;33m\u001b[0m\u001b[0m\n",
      "\u001b[1;32m~\\anaconda3\\lib\\site-packages\\ipykernel\\kernelbase.py\u001b[0m in \u001b[0;36mraw_input\u001b[1;34m(self, prompt)\u001b[0m\n\u001b[0;32m   1175\u001b[0m                 \u001b[1;34m\"raw_input was called, but this frontend does not support input requests.\"\u001b[0m\u001b[1;33m\u001b[0m\u001b[1;33m\u001b[0m\u001b[0m\n\u001b[0;32m   1176\u001b[0m             )\n\u001b[1;32m-> 1177\u001b[1;33m         return self._input_request(\n\u001b[0m\u001b[0;32m   1178\u001b[0m             \u001b[0mstr\u001b[0m\u001b[1;33m(\u001b[0m\u001b[0mprompt\u001b[0m\u001b[1;33m)\u001b[0m\u001b[1;33m,\u001b[0m\u001b[1;33m\u001b[0m\u001b[1;33m\u001b[0m\u001b[0m\n\u001b[0;32m   1179\u001b[0m             \u001b[0mself\u001b[0m\u001b[1;33m.\u001b[0m\u001b[0m_parent_ident\u001b[0m\u001b[1;33m[\u001b[0m\u001b[1;34m\"shell\"\u001b[0m\u001b[1;33m]\u001b[0m\u001b[1;33m,\u001b[0m\u001b[1;33m\u001b[0m\u001b[1;33m\u001b[0m\u001b[0m\n",
      "\u001b[1;32m~\\anaconda3\\lib\\site-packages\\ipykernel\\kernelbase.py\u001b[0m in \u001b[0;36m_input_request\u001b[1;34m(self, prompt, ident, parent, password)\u001b[0m\n\u001b[0;32m   1217\u001b[0m             \u001b[1;32mexcept\u001b[0m \u001b[0mKeyboardInterrupt\u001b[0m\u001b[1;33m:\u001b[0m\u001b[1;33m\u001b[0m\u001b[1;33m\u001b[0m\u001b[0m\n\u001b[0;32m   1218\u001b[0m                 \u001b[1;31m# re-raise KeyboardInterrupt, to truncate traceback\u001b[0m\u001b[1;33m\u001b[0m\u001b[1;33m\u001b[0m\u001b[0m\n\u001b[1;32m-> 1219\u001b[1;33m                 \u001b[1;32mraise\u001b[0m \u001b[0mKeyboardInterrupt\u001b[0m\u001b[1;33m(\u001b[0m\u001b[1;34m\"Interrupted by user\"\u001b[0m\u001b[1;33m)\u001b[0m \u001b[1;32mfrom\u001b[0m \u001b[1;32mNone\u001b[0m\u001b[1;33m\u001b[0m\u001b[1;33m\u001b[0m\u001b[0m\n\u001b[0m\u001b[0;32m   1220\u001b[0m             \u001b[1;32mexcept\u001b[0m \u001b[0mException\u001b[0m\u001b[1;33m:\u001b[0m\u001b[1;33m\u001b[0m\u001b[1;33m\u001b[0m\u001b[0m\n\u001b[0;32m   1221\u001b[0m                 \u001b[0mself\u001b[0m\u001b[1;33m.\u001b[0m\u001b[0mlog\u001b[0m\u001b[1;33m.\u001b[0m\u001b[0mwarning\u001b[0m\u001b[1;33m(\u001b[0m\u001b[1;34m\"Invalid Message:\"\u001b[0m\u001b[1;33m,\u001b[0m \u001b[0mexc_info\u001b[0m\u001b[1;33m=\u001b[0m\u001b[1;32mTrue\u001b[0m\u001b[1;33m)\u001b[0m\u001b[1;33m\u001b[0m\u001b[1;33m\u001b[0m\u001b[0m\n",
      "\u001b[1;31mKeyboardInterrupt\u001b[0m: Interrupted by user"
     ]
    }
   ],
   "source": [
    "\n",
    "class Student:\n",
    "\n",
    "    def __init__(self):\n",
    "        self.name = input(\"Enter student name: \")\n",
    "        self.marks = []\n",
    "        while len(self.marks) < 3:\n",
    "            try:\n",
    "                marks_str = input(\"Enter marks for three subjects (separated by spaces): \").split()\n",
    "                if len(marks_str) != 3:\n",
    "                    raise ValueError(\"Please enter exactly three marks.\")\n",
    "                self.marks = [int(mark) for mark in marks_str]\n",
    "            except ValueError:\n",
    "                print(\"Invalid input. Marks must be valid integers.\")\n",
    "\n",
    "    def calculate_total(self):\n",
    "\n",
    "        return sum(self.marks)\n",
    "\n",
    "    def calculate_average(self):\n",
    "       \n",
    "\n",
    "        return self.calculate_total() / len(self.marks)\n",
    "\n",
    "    def __str__(self):\n",
    "        \n",
    "\n",
    "        return f\"Name: {self.name}\\nMarks: {self.marks}\\nTotal: {self.calculate_total()}\\nAverage: {self.calculate_average():.2f}\"  \n",
    "\n",
    "\n",
    "def main():\n",
    "    \n",
    "\n",
    "    students = []\n",
    "    while True:\n",
    "        choice = input(\"Enter 'q' to quit, or anything else to add a student: \")\n",
    "        if choice.lower() == 'q':\n",
    "            break\n",
    "\n",
    "        student = Student() \n",
    "        students.append(student)\n",
    "\n",
    "    if students:\n",
    "        print(\"\\nStudent Information:\")\n",
    "        for student in students:\n",
    "            print(student) \n",
    "            print(\"-\" * 30)  \n",
    "    else:\n",
    "        print(\"No students added.\")\n",
    "\n",
    "\n",
    "if __name__ == \"__main__\":\n",
    "    main()\n"
   ]
  },
  {
   "cell_type": "code",
   "execution_count": 12,
   "id": "2c623af5",
   "metadata": {},
   "outputs": [
    {
     "name": "stdout",
     "output_type": "stream",
     "text": [
      "Enter employee name: HIMANSHU RANJAN\n",
      "Enter designation: SCIENTIST\n",
      "Enter salary: 1500000\n",
      "Enter employee name: PRIYA SINGH\n",
      "Enter designation: TEACHER\n",
      "Enter salary: 800000\n",
      "Enter employee name: SUDHIR KUMAR SINGH\n",
      "Enter designation: 600000\n",
      "Enter salary: 600000\n",
      "Total Employees: 3\n",
      "\n",
      "Employee Details:\n",
      "Name: HIMANSHU RANJAN, Designation: SCIENTIST, Salary: 1500000\n",
      "Name: PRIYA SINGH, Designation: TEACHER, Salary: 800000\n",
      "Name: SUDHIR KUMAR SINGH, Designation: 600000, Salary: 600000\n"
     ]
    }
   ],
   "source": [
    "\n",
    "\n",
    "\n",
    "class Employee:\n",
    "\n",
    "    count = 0  \n",
    "\n",
    "    def __init__(self):\n",
    "        self.name = input(\"Enter employee name: \")\n",
    "        self.designation = input(\"Enter designation: \")\n",
    "        self.salary = int(input(\"Enter salary: \"))\n",
    "        Employee.count += 1  # Update employee count\n",
    "\n",
    "\n",
    "emp1 = Employee()\n",
    "emp2 = Employee()\n",
    "emp3 = Employee()\n",
    "\n",
    "\n",
    "print(f\"Total Employees: {Employee.count}\")\n",
    "print(\"\\nEmployee Details:\")\n",
    "print(f\"Name: {emp1.name}, Designation: {emp1.designation}, Salary: {emp1.salary}\")\n",
    "print(f\"Name: {emp2.name}, Designation: {emp2.designation}, Salary: {emp2.salary}\")\n",
    "print(f\"Name: {emp3.name}, Designation: {emp3.designation}, Salary: {emp3.salary}\")\n"
   ]
  },
  {
   "cell_type": "code",
   "execution_count": 13,
   "id": "8fa17182",
   "metadata": {},
   "outputs": [
    {
     "name": "stdout",
     "output_type": "stream",
     "text": [
      "Enter name: HIMANSHU RANJAN\n",
      "Enter year of birth: 2002\n",
      "Enter month of birth (1-12): 2\n",
      "Enter day of birth: 24\n",
      "Name: HIMANSHU RANJAN\n",
      "Age: 22\n",
      "Eligible to Vote: True\n"
     ]
    }
   ],
   "source": [
    "from datetime import date\n",
    "\n",
    "class Person:\n",
    "   \n",
    "\n",
    "    VOTING_AGE = 18  # Minimum age to be eligible to vote\n",
    "\n",
    "    def __init__(self):\n",
    "        self.name = input(\"Enter name: \")\n",
    "        self.birth_year = int(input(\"Enter year of birth: \"))\n",
    "        self.birth_month = int(input(\"Enter month of birth (1-12): \"))\n",
    "        self.birth_day = int(input(\"Enter day of birth: \"))\n",
    "\n",
    "        today = date.today()\n",
    "        self.age = today.year - self.birth_year - ((today.month, today.day) < (self.birth_month, self.birth_day))\n",
    "\n",
    "        self.eligible_to_vote = self.age >= Person.VOTING_AGE\n",
    "\n",
    "person = Person()\n",
    "\n",
    "print(f\"Name: {person.name}\")\n",
    "print(f\"Age: {person.age}\")\n",
    "print(f\"Eligible to Vote: {person.eligible_to_vote}\")\n"
   ]
  },
  {
   "cell_type": "code",
   "execution_count": 14,
   "id": "27ec5866",
   "metadata": {},
   "outputs": [
    {
     "name": "stdout",
     "output_type": "stream",
     "text": [
      "Enter the radius of the circle: 7\n",
      "Area: 153.86\n",
      "Circumference: 43.96\n"
     ]
    }
   ],
   "source": [
    "class Circle:\n",
    "    \n",
    "\n",
    "    PI = 3.14  \n",
    "\n",
    "    def __init__(self, radius):\n",
    "        self.radius = radius\n",
    "        self.area = self.radius**2 * Circle.PI \n",
    "        self.circumference = 2 * Circle.PI * self.radius\n",
    "\n",
    "radius = float(input(\"Enter the radius of the circle: \"))\n",
    "\n",
    "circle = Circle(radius)\n",
    "\n",
    "\n",
    "print(f\"Area: {circle.area}\")\n",
    "print(f\"Circumference: {circle.circumference}\")\n"
   ]
  },
  {
   "cell_type": "code",
   "execution_count": 16,
   "id": "16a4b23e",
   "metadata": {},
   "outputs": [
    {
     "name": "stdout",
     "output_type": "stream",
     "text": [
      "Enter student name: HIMANSHU\n",
      "Enter roll number: 21052252\n",
      "Enter marks for three subjects (separated by spaces): 89 98 99\n",
      "Enter student name: PRIYA\n",
      "Enter roll number: 21052216\n",
      "Enter marks for three subjects (separated by spaces): 98 91 95\n",
      "\n",
      "Student Information:\n",
      "Name: HIMANSHU\n",
      "Roll No: 21052252\n",
      "Total Marks: 286\n",
      "Name:  PRIYA\n",
      "Roll No: 21052216\n",
      "Total Marks: 284\n"
     ]
    }
   ],
   "source": [
    "class Student:\n",
    "   \n",
    "\n",
    "    def __init__(self):\n",
    "        self.name = input(\"Enter student name: \")\n",
    "        self.roll_no = int(input(\"Enter roll number: \"))\n",
    "        self.marks = []\n",
    "        while len(self.marks) < 3:\n",
    "            try:\n",
    "                marks_str = input(\"Enter marks for three subjects (separated by spaces): \").split()\n",
    "                if len(marks_str) != 3:\n",
    "                    raise ValueError(\"Please enter exactly three marks.\")\n",
    "                self.marks = [int(mark) for mark in marks_str]\n",
    "            except ValueError:\n",
    "                print(\"Invalid input. Marks must be valid integers.\")\n",
    "\n",
    "        self.total_marks = sum(self.marks)  \n",
    "\n",
    "student1 = Student()\n",
    "student2 = Student()\n",
    "\n",
    "\n",
    "print(\"\\nStudent Information:\")\n",
    "print(f\"Name: {student1.name}\")\n",
    "print(f\"Roll No: {student1.roll_no}\")\n",
    "print(f\"Total Marks: {student1.total_marks}\")\n",
    "\n",
    "print(f\"Name:  {student2.name}\")\n",
    "print(f\"Roll No: {student2.roll_no}\")\n",
    "print(f\"Total Marks: {student2.total_marks}\")\n"
   ]
  },
  {
   "cell_type": "code",
   "execution_count": 17,
   "id": "7b34d8d3",
   "metadata": {},
   "outputs": [
    {
     "name": "stdout",
     "output_type": "stream",
     "text": [
      "Enter the length of the rectangle: 15\n",
      "Enter the breadth of the rectangle: 20\n",
      "Area of the rectangle: 300.0\n"
     ]
    }
   ],
   "source": [
    "class Rectangle:\n",
    "   \n",
    "\n",
    "    def __init__(self):\n",
    "        self.length = float(input(\"Enter the length of the rectangle: \"))\n",
    "        self.breadth = float(input(\"Enter the breadth of the rectangle: \"))\n",
    "        self.area = self.length * self.breadth \n",
    "\n",
    "\n",
    "rectangle = Rectangle()\n",
    "\n",
    "\n",
    "print(f\"Area of the rectangle: {rectangle.area}\")\n"
   ]
  },
  {
   "cell_type": "code",
   "execution_count": 18,
   "id": "cefd9b4e",
   "metadata": {},
   "outputs": [
    {
     "name": "stdout",
     "output_type": "stream",
     "text": [
      "Enter numerator: 15\n",
      "Enter denominator: 5\n",
      "Simplified Fraction: 3/1\n"
     ]
    }
   ],
   "source": [
    "class Fraction:\n",
    "    \n",
    "\n",
    "    def __init__(self, numerator, denominator):\n",
    "        self.numerator = numerator\n",
    "        self.denominator = denominator\n",
    "\n",
    "    \n",
    "        gcd = 1\n",
    "        while numerator > 0 and denominator > 0:\n",
    "            gcd = min(numerator, denominator)\n",
    "            numerator %= gcd\n",
    "            denominator %= gcd\n",
    "\n",
    "        \n",
    "        self.numerator //= gcd\n",
    "        self.denominator //= gcd\n",
    "\n",
    "\n",
    "numerator = int(input(\"Enter numerator: \"))\n",
    "denominator = int(input(\"Enter denominator: \"))\n",
    "\n",
    "\n",
    "fraction = Fraction(numerator, denominator)\n",
    "\n",
    "\n",
    "print(f\"Simplified Fraction: {fraction.numerator}/{fraction.denominator}\")\n"
   ]
  },
  {
   "cell_type": "code",
   "execution_count": 19,
   "id": "4b0ffa12",
   "metadata": {},
   "outputs": [
    {
     "name": "stdout",
     "output_type": "stream",
     "text": [
      "Enter the length of the rectangle: 50\n",
      "Enter the breadth of the rectangle: 25\n",
      "Enter the base of the triangle: 4\n",
      "Enter the height of the triangle: 8\n",
      "Area of the rectangle: 1250.0\n",
      "Area of the triangle: 16.0\n"
     ]
    }
   ],
   "source": [
    "class Polygon:\n",
    "    \"\"\"\n",
    "    Abstract class representing a polygon with an abstract method for calculating area.\n",
    "    \"\"\"\n",
    "\n",
    "    def __init__(self):\n",
    "        pass\n",
    "\n",
    "    def calculate_area(self):\n",
    "        \"\"\"\n",
    "        Abstract method to calculate the area of the polygon.\n",
    "        Must be implemented by derived classes.\n",
    "        \"\"\"\n",
    "        raise NotImplementedError(\"Area calculation not implemented for Polygon.\")\n",
    "\n",
    "\n",
    "class Rectangle(Polygon):\n",
    "    \n",
    "\n",
    "    def __init__(self):\n",
    "        super().__init__()\n",
    "        self.length = float(input(\"Enter the length of the rectangle: \"))\n",
    "        self.breadth = float(input(\"Enter the breadth of the rectangle: \"))\n",
    "        self.area = self.length * self.breadth \n",
    "\n",
    "\n",
    "class Triangle(Polygon):\n",
    "   \n",
    "\n",
    "    def __init__(self):\n",
    "        super().__init__()\n",
    "        self.base = float(input(\"Enter the base of the triangle: \"))\n",
    "        self.height = float(input(\"Enter the height of the triangle: \"))\n",
    "        self.area = 0.5 * self.base * self.height  \n",
    "\n",
    "rectangle = Rectangle()\n",
    "triangle = Triangle()\n",
    "\n",
    "print(f\"Area of the rectangle: {rectangle.area}\")\n",
    "print(f\"Area of the triangle: {triangle.area}\")\n"
   ]
  },
  {
   "cell_type": "code",
   "execution_count": 20,
   "id": "6777ab36",
   "metadata": {},
   "outputs": [
    {
     "name": "stdout",
     "output_type": "stream",
     "text": [
      "Enter bill amount: 1200\n",
      "Bill Amount: $1200.0\n",
      "Payment Method: Cash\n"
     ]
    }
   ],
   "source": [
    "class Bill:\n",
    "   \n",
    "\n",
    "    def __init__(self, amount):\n",
    "        self.amount = amount\n",
    "        self.payment_method = None  \n",
    "\n",
    "class CashPayment(Bill):\n",
    "    \n",
    "\n",
    "    def __init__(self, amount):\n",
    "        super().__init__(amount)\n",
    "        self.payment_method = \"Cash\"  \n",
    "\n",
    "class CardPayment(Bill):\n",
    "    \n",
    "\n",
    "    def __init__(self, amount):\n",
    "        super().__init__(amount)\n",
    "        self.payment_method = \"Card\"  \n",
    "\n",
    "bill_amount = float(input(\"Enter bill amount: \"))\n",
    "\n",
    "\n",
    "if True:  \n",
    "    bill = CashPayment(bill_amount)\n",
    "else:\n",
    "    bill = CardPayment(bill_amount)\n",
    "\n",
    "\n",
    "print(f\"Bill Amount: ${bill.amount}\")\n",
    "print(f\"Payment Method: {bill.payment_method}\")\n"
   ]
  },
  {
   "cell_type": "code",
   "execution_count": null,
   "id": "929865ae",
   "metadata": {},
   "outputs": [
    {
     "name": "stdout",
     "output_type": "stream",
     "text": [
      "Enter person's name: HIMANSHU \n",
      "Enter the number of publications: 12\n"
     ]
    }
   ],
   "source": [
    "class Person:\n",
    "    \n",
    "\n",
    "    def __init__(self):\n",
    "        self.name = input(\"Enter person's name: \")\n",
    "\n",
    "\n",
    "class Faculty(Person):\n",
    "    \n",
    "\n",
    "    def __init__(self):\n",
    "        super().__init__()\n",
    "        self.publications = []\n",
    "        num_publications = int(input(\"Enter the number of publications: \"))\n",
    "        for _ in range(num_publications):\n",
    "            publication = input(\"Enter publication title: \")\n",
    "            self.publications.append(publication)\n",
    "\n",
    "\n",
    "faculty = Faculty()\n",
    "\n",
    "\n",
    "print(f\"Name: {faculty.name}\")\n",
    "print(f\"Publications:\")\n",
    "for publication in faculty.publications:\n",
    "    print(f\"- {publication}\")\n"
   ]
  },
  {
   "cell_type": "code",
   "execution_count": null,
   "id": "0b1514d9",
   "metadata": {},
   "outputs": [],
   "source": []
  }
 ],
 "metadata": {
  "kernelspec": {
   "display_name": "Python 3 (ipykernel)",
   "language": "python",
   "name": "python3"
  },
  "language_info": {
   "codemirror_mode": {
    "name": "ipython",
    "version": 3
   },
   "file_extension": ".py",
   "mimetype": "text/x-python",
   "name": "python",
   "nbconvert_exporter": "python",
   "pygments_lexer": "ipython3",
   "version": "3.9.13"
  }
 },
 "nbformat": 4,
 "nbformat_minor": 5
}
