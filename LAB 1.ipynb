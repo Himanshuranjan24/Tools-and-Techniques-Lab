{
 "cells": [
  {
   "cell_type": "code",
   "execution_count": 1,
   "id": "01b7c0c2",
   "metadata": {},
   "outputs": [
    {
     "name": "stdout",
     "output_type": "stream",
     "text": [
      "Hello Python\n"
     ]
    }
   ],
   "source": [
    "print(\"Hello Python\")"
   ]
  },
  {
   "cell_type": "code",
   "execution_count": 10,
   "id": "843cd9bc",
   "metadata": {},
   "outputs": [
    {
     "name": "stdout",
     "output_type": "stream",
     "text": [
      "Enter 1st number: 15\n",
      "Enter 2nd number: 3\n",
      "Sum of 15.0 and 3.0 is: 18.0\n",
      "Division of 15.0 and 3.0 is: 5.0\n"
     ]
    }
   ],
   "source": [
    "x = float(input(\"Enter 1st number: \"))\n",
    "y = float(input(\"Enter 2nd number: \"))\n",
    "sum = num1 + num2\n",
    "division = num1 / num2\n",
    "print(\"Sum of\", x, \"and\", y, \"is:\", sum)\n",
    "print(\"Division of\", x, \"and\", y, \"is:\", division)"
   ]
  },
  {
   "cell_type": "code",
   "execution_count": 12,
   "id": "d32b6fc5",
   "metadata": {},
   "outputs": [
    {
     "name": "stdout",
     "output_type": "stream",
     "text": [
      "Enter base of triangle: 15\n",
      "Enter height of triangle: 5\n",
      "Area of the triangle: 37.5\n"
     ]
    }
   ],
   "source": [
    "b = float(input(\"Enter base of triangle: \"))\n",
    "h = float(input(\"Enter height of triangle: \"))\n",
    "area = 0.5 * b * h\n",
    "print(\"Area of the triangle:\", area)\n"
   ]
  },
  {
   "cell_type": "code",
   "execution_count": 13,
   "id": "4825bf92",
   "metadata": {},
   "outputs": [
    {
     "name": "stdout",
     "output_type": "stream",
     "text": [
      "Enter 1st number: 15\n",
      "Enter 2nd number: 20\n",
      "After swapping of numbers:\n",
      "1st number: 20\n",
      "2nd number: 15\n"
     ]
    }
   ],
   "source": [
    "x = int(input(\"Enter 1st number: \"))\n",
    "y = int(input(\"Enter 2nd number: \"))\n",
    "temp = x\n",
    "x = y\n",
    "y = temp\n",
    "print(\"After swapping of numbers:\")\n",
    "print(\"1st number:\", x)\n",
    "print(\"2nd number:\", y)"
   ]
  },
  {
   "cell_type": "code",
   "execution_count": 22,
   "id": "9cd57e2d",
   "metadata": {},
   "outputs": [
    {
     "name": "stdout",
     "output_type": "stream",
     "text": [
      "Enter the lower bound: 15\n",
      "Enter the upper bound: 20\n",
      "Random number generated: 17\n"
     ]
    }
   ],
   "source": [
    "import random\n",
    "x = int(input(\"Enter the lower bound: \"))\n",
    "y = int(input(\"Enter the upper bound: \"))\n",
    "if x>y:\n",
    "    print(\"Error: Lower bound must be less than or equal to upper bound.\")\n",
    "else:\n",
    "    z = random.randint(x, y)\n",
    "    print(\"Random number generated:\", z)\n"
   ]
  },
  {
   "cell_type": "code",
   "execution_count": 27,
   "id": "bdbe3456",
   "metadata": {},
   "outputs": [
    {
     "name": "stdout",
     "output_type": "stream",
     "text": [
      "Enter the distance in km: 15\n",
      "15.0 km is equal to 9.32 mile.\n"
     ]
    }
   ],
   "source": [
    "kms = float(input(\"Enter the distance in km: \"))\n",
    "conversion_factor = 0.621371\n",
    "mile = kms * conversion_factor\n",
    "print(f\"{kms} km is equal to {mile:.2f} mile.\")\n"
   ]
  },
  {
   "cell_type": "code",
   "execution_count": 28,
   "id": "07418438",
   "metadata": {},
   "outputs": [
    {
     "name": "stdout",
     "output_type": "stream",
     "text": [
      "Enter temperature in Celsius: 95\n",
      "The temperature in celsius to fahrenheit is:- 203.0\n"
     ]
    }
   ],
   "source": [
    "celsius = float(input(\"Enter temperature in Celsius: \"))\n",
    "fahrenheit = (celsius * 9/5) + 32\n",
    "print(\"The temperature in celsius to fahrenheit is:-\",fahrenheit)\n"
   ]
  },
  {
   "cell_type": "code",
   "execution_count": 29,
   "id": "12837a97",
   "metadata": {},
   "outputs": [
    {
     "name": "stdout",
     "output_type": "stream",
     "text": [
      "Enter year: 2024\n",
      "Enter month: 1\n",
      "    January 2024\n",
      "Mo Tu We Th Fr Sa Su\n",
      " 1  2  3  4  5  6  7\n",
      " 8  9 10 11 12 13 14\n",
      "15 16 17 18 19 20 21\n",
      "22 23 24 25 26 27 28\n",
      "29 30 31\n",
      "\n"
     ]
    }
   ],
   "source": [
    "import calendar\n",
    "x = int(input(\"Enter year: \"))\n",
    "y = int(input(\"Enter month: \"))\n",
    "print(calendar.month(x, y))"
   ]
  },
  {
   "cell_type": "code",
   "execution_count": 33,
   "id": "e9d43444",
   "metadata": {},
   "outputs": [
    {
     "name": "stdout",
     "output_type": "stream",
     "text": [
      "Enter coefficient of a: 1\n",
      "Enter coefficient of b: 7\n",
      "Enter coefficient of c: 10\n",
      "Roots of the equation are: -2.00, -5.00\n"
     ]
    }
   ],
   "source": [
    "a = float(input(\"Enter coefficient of a: \"))\n",
    "b = float(input(\"Enter coefficient of b: \"))\n",
    "c = float(input(\"Enter coefficient of c: \"))\n",
    "discriminant = b**2 - 4 * a * c\n",
    "if discriminant >= 0:\n",
    "    root_one= (-b + discriminant**0.5) / (2 * a)\n",
    "    root_two = (-b - discriminant**0.5) / (2 * a)\n",
    "    print(f\"Roots of the equation are: {root_one:.2f}, {root_two:.2f}\")\n",
    "else:\n",
    "    print(\"The equation has no real roots.\")\n"
   ]
  },
  {
   "cell_type": "code",
   "execution_count": 34,
   "id": "382d719c",
   "metadata": {},
   "outputs": [
    {
     "name": "stdout",
     "output_type": "stream",
     "text": [
      "Enter the 1st value: 15\n",
      "Enter the 2nd value: 20\n",
      "After swapping of numbers:\n",
      "1st number: 20\n",
      "2nd number: 15\n"
     ]
    }
   ],
   "source": [
    "a = int(input(\"Enter the 1st value: \"))\n",
    "b = int(input(\"Enter the 2nd value: \"))\n",
    "a = a + b\n",
    "b = a - b\n",
    "a = a - b\n",
    "print(\"After swapping of numbers:\")\n",
    "print(\"1st number:\", a)\n",
    "print(\"2nd number:\", b)\n"
   ]
  }
 ],
 "metadata": {
  "kernelspec": {
   "display_name": "Python 3 (ipykernel)",
   "language": "python",
   "name": "python3"
  },
  "language_info": {
   "codemirror_mode": {
    "name": "ipython",
    "version": 3
   },
   "file_extension": ".py",
   "mimetype": "text/x-python",
   "name": "python",
   "nbconvert_exporter": "python",
   "pygments_lexer": "ipython3",
   "version": "3.9.13"
  }
 },
 "nbformat": 4,
 "nbformat_minor": 5
}
