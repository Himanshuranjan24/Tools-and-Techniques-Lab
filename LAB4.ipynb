{
 "cells": [
  {
   "cell_type": "code",
   "execution_count": 7,
   "id": "63ece124",
   "metadata": {},
   "outputs": [
    {
     "name": "stdout",
     "output_type": "stream",
     "text": [
      "Enter a non-negative integer: 10\n",
      "The factorial of 10 is 3628800\n"
     ]
    }
   ],
   "source": [
    "#1 WAP to find factorial of a given number using with recursion.\n",
    "def factorial(n):\n",
    "    if n < 0:\n",
    "        raise ValueError(\"Factorial is not defined for negative numbers.\")\n",
    "    elif n == 0:\n",
    "        return 1\n",
    "    else:\n",
    "        return n * factorial(n - 1)\n",
    "\n",
    "try:\n",
    "    xy = int(input(\"Enter a non-negative integer: \"))\n",
    "    result = factorial(xy)\n",
    "    print(f\"The factorial of {xy} is {result}\")\n",
    "except ValueError as e:\n",
    "    print(e)"
   ]
  },
  {
   "cell_type": "code",
   "execution_count": 8,
   "id": "9021afe9",
   "metadata": {},
   "outputs": [
    {
     "name": "stdout",
     "output_type": "stream",
     "text": [
      "Enter the number of terms in the Fibonacci sequence (non-negative integer): 10\n",
      "Fibonacci sequence:\n",
      "0 1 1 2 3 5 8 13 21 34 "
     ]
    }
   ],
   "source": [
    "#wap to solve the fibonacci sequence using recursion\n",
    "def fibonacci(n):\n",
    "    if n < 0:\n",
    "        raise ValueError(\"Fibonacci sequence is not defined for negative numbers.\")\n",
    "    elif n == 0:\n",
    "        return 0\n",
    "    elif n == 1:\n",
    "        return 1\n",
    "    else:\n",
    "        return fibonacci(n - 1) + fibonacci(n - 2)\n",
    "try:\n",
    "    x = int(input(\"Enter the number of terms in the Fibonacci sequence (non-negative integer): \"))\n",
    "    if x < 0:\n",
    "        raise ValueError(\"Number of terms must be non-negative.\")\n",
    "    a, b = 0, 1\n",
    "    print(\"Fibonacci sequence:\")\n",
    "    for _ in range(x):\n",
    "        print(a, end=\" \")\n",
    "        a, b = b, a + b\n",
    "except ValueError as e:\n",
    "    print(e)\n"
   ]
  },
  {
   "cell_type": "code",
   "execution_count": 18,
   "id": "81120e76",
   "metadata": {},
   "outputs": [
    {
     "name": "stdout",
     "output_type": "stream",
     "text": [
      "Enter the base number: 3\n",
      "Enter the exponent (non-negative integer): 2\n",
      "3.0^2 = 9.0\n"
     ]
    }
   ],
   "source": [
    " # WAP to find the value of a^b using recursion\n",
    "def power(a, b):\n",
    "    if b < 0:\n",
    "        raise ValueError(\"Exponent must be a non-negative integer.\")\n",
    "    elif b == 0:\n",
    "        return 1\n",
    "    else:\n",
    "        return a * power(a, b - 1)\n",
    "\n",
    "try:\n",
    "    base = float(input(\"Enter the base number: \"))\n",
    "    exponent = int(input(\"Enter the exponent (non-negative integer): \"))\n",
    "    if exponent < 0:\n",
    "        raise ValueError(\"Exponent must be a non-negative integer.\")\n",
    "    result = power(base, exponent)\n",
    "    print(f\"{base}^{exponent} = {result}\")\n",
    "except ValueError as e:\n",
    "    print(e)\n"
   ]
  },
  {
   "cell_type": "code",
   "execution_count": 19,
   "id": "6648ff3b",
   "metadata": {},
   "outputs": [
    {
     "name": "stdout",
     "output_type": "stream",
     "text": [
      "Enter the first non-negative integer: 5\n",
      "Enter the second non-negative integer: 6\n",
      "The GCD of 5 and 6 is 1\n"
     ]
    }
   ],
   "source": [
    "# wap to find the god of two interger using recurssion\n",
    "def gcd(a, b):\n",
    "    if a < 0 or b < 0:\n",
    "        raise ValueError(\"GCD is not defined for negative numbers.\")\n",
    "    elif a == 0:\n",
    "        return b\n",
    "    elif b == 0:\n",
    "        return a\n",
    "    else:\n",
    "        return gcd(b, a % b)\n",
    "\n",
    "try:\n",
    "    x = int(input(\"Enter the first non-negative integer: \"))\n",
    "    y = int(input(\"Enter the second non-negative integer: \"))\n",
    "    if x < 0 or y < 0:\n",
    "        raise ValueError(\"GCD is not defined for negative numbers.\")\n",
    "    result = gcd(x, y)\n",
    "    print(f\"The GCD of {x} and {y} is {result}\")\n",
    "\n",
    "except ValueError as e:\n",
    "    print(e)\n"
   ]
  }
 ],
 "metadata": {
  "kernelspec": {
   "display_name": "Python 3 (ipykernel)",
   "language": "python",
   "name": "python3"
  },
  "language_info": {
   "codemirror_mode": {
    "name": "ipython",
    "version": 3
   },
   "file_extension": ".py",
   "mimetype": "text/x-python",
   "name": "python",
   "nbconvert_exporter": "python",
   "pygments_lexer": "ipython3",
   "version": "3.9.13"
  }
 },
 "nbformat": 4,
 "nbformat_minor": 5
}
