{
 "cells": [
  {
   "cell_type": "code",
   "execution_count": 3,
   "id": "05b91882",
   "metadata": {},
   "outputs": [
    {
     "name": "stdout",
     "output_type": "stream",
     "text": [
      "Enter a string:- MY NAME IS HIMANSHU RANJAN\n",
      "Reversed Text Of Given string:- RANJAN HIMANSHU IS NAME MY\n"
     ]
    }
   ],
   "source": [
    "\"\"\"\n",
    "Given a string, the task is to reverse the order of the words in the given string. \n",
    "Ex- Input- “reverse the order of the words”\n",
    "Output- “words the of order the reverse”\n",
    "\"\"\"\n",
    "x = input(\"Enter a string:- \")\n",
    "words = x.split()\n",
    "for i in range(len(words) // 2):\n",
    "   words[i], words[-i-1] = words[-i-1], words[i]\n",
    "reversed_text = \" \".join(words)\n",
    "print(\"Reversed Text Of Given string:-\", reversed_text)\n"
   ]
  },
  {
   "cell_type": "code",
   "execution_count": 3,
   "id": "f8795a16",
   "metadata": {},
   "outputs": [
    {
     "name": "stdout",
     "output_type": "stream",
     "text": [
      "Enter the first string:- Himanshu\n",
      "Enter the second string:- huHimans\n",
      "Yes, x2 is rotated by two places clockwise from x1.\n"
     ]
    }
   ],
   "source": [
    "\"\"\"\n",
    "Write a program to check whether string is rotated by two places(both anti-clockwise and clockwise).\n",
    "Ex- Str1= “Abhiraj” Str2=”jaAbhir” \n",
    "Output:- Yes\n",
    "\"\"\"\n",
    "x1 = input(\"Enter the first string:- \")\n",
    "x2 = input(\"Enter the second string:- \")\n",
    "rotate_clockwise = x1[-2:] + x1[:-2]\n",
    "if rotate_clockwise == x2:\n",
    "    print(\"Yes, x2 is rotated by two places clockwise from x1.\")\n",
    "    exit()  \n",
    "rotate_anti_clockwise = x1[2:] + x1[:2]\n",
    "if rotate_anti_clockwise == x2:\n",
    "    print(\"Yes, x2 is rotated by two places anti-clockwise from x1.\")\n",
    "    exit()  \n"
   ]
  },
  {
   "cell_type": "code",
   "execution_count": 3,
   "id": "e411d777",
   "metadata": {},
   "outputs": [
    {
     "name": "stdout",
     "output_type": "stream",
     "text": [
      "Enter the first string: Himanshu\n",
      "Enter the second string: Ranjan\n",
      "After Swapping: Hinjan Ramanshu\n"
     ]
    }
   ],
   "source": [
    "\"\"\"\n",
    "3.Write a program to get a single string from two given strings, separated by a space and swap the first two \n",
    " characters of each string.\n",
    "Sample String :'Abhi', 'Raj' Expected Result : 'Raj Abhi'\n",
    "\"\"\"\n",
    "x1 = input(\"Enter the first string: \")\n",
    "x2 = input(\"Enter the second string: \")\n",
    "temp = x1[:2]  \n",
    "x1 = x2[:2] + x1[2:]  \n",
    "x2 = temp + x2[2:]  \n",
    "swap = x2 + \" \" + x1\n",
    "print(\"After Swapping:\", swap)"
   ]
  },
  {
   "cell_type": "code",
   "execution_count": 5,
   "id": "ebd44be2",
   "metadata": {},
   "outputs": [
    {
     "name": "stdout",
     "output_type": "stream",
     "text": [
      "Enter a nonempty string:- HIMANSHU\n",
      "Enter the index of the character to remove :- 2\n",
      "String after removing the character: HIANSHU\n"
     ]
    }
   ],
   "source": [
    "#Write a Python program to remove the nth index character from a nonempty string.\n",
    "x = input(\"Enter a nonempty string:- \")\n",
    "index = int(input(\"Enter the index of the character to remove :- \"))\n",
    "if index < 0 or index >= len(x):\n",
    "    print(\"Invalid index. Please enter an index within the string's length.\")\n",
    "else:\n",
    "    new_x = x[:index] + x[index+1:]\n",
    "    print(\"String after removing the character:\", new_x)\n"
   ]
  },
  {
   "cell_type": "code",
   "execution_count": 1,
   "id": "298c5f2d",
   "metadata": {},
   "outputs": [
    {
     "name": "stdout",
     "output_type": "stream",
     "text": [
      "Enter a string: Himanshu\n",
      "Sorted string: Hahimnsu\n"
     ]
    }
   ],
   "source": [
    "#Write a Python program to sort a string lexicographically.\n",
    "x_string = input(\"Enter a string: \")\n",
    "sorted_string = \"\"\n",
    "while x_string:\n",
    "    min_char = x_string[0]\n",
    "    min_char_index = 0\n",
    "    for i in range(1, len(x_string)):\n",
    "        if x_string[i] < min_char:\n",
    "            min_char = x_string[i]\n",
    "            min_char_index = i\n",
    "    sorted_string += min_char\n",
    "    x_string = x_string[:min_char_index] + x_string[min_char_index+1:]\n",
    "print(\"Sorted string:\", sorted_string)"
   ]
  }
 ],
 "metadata": {
  "kernelspec": {
   "display_name": "Python 3 (ipykernel)",
   "language": "python",
   "name": "python3"
  },
  "language_info": {
   "codemirror_mode": {
    "name": "ipython",
    "version": 3
   },
   "file_extension": ".py",
   "mimetype": "text/x-python",
   "name": "python",
   "nbconvert_exporter": "python",
   "pygments_lexer": "ipython3",
   "version": "3.9.13"
  }
 },
 "nbformat": 4,
 "nbformat_minor": 5
}
